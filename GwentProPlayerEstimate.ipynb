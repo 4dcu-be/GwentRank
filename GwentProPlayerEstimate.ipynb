{
 "cells": [
  {
   "cell_type": "markdown",
   "metadata": {},
   "source": [
    "# How many Pro Players are out there ?\n",
    "\n",
    "On [PlayGwent]() only data from the top 2860 pro players is shared. Though it is like there are (many) more. We'll try using some data science on the MMR scores from players from previous seasons to estmate how many players are actually out there. This can be done because the very first season in Masters 2 (Season of the Wolf) the total number of active players (MMR 2400 indicating at least 25 games were played) was about that threshold (the lowest MMR that season is 2407).\n",
    "\n",
    "Assuming the distribution of MMR scores remains similar accross seasons, we can leverage that to estimate the total number of players for seasons where there were more players. The idea is to determine the percentage of players with an MMR higher than 9700, 9800, 9900, 10000 and 10100 from the first season and, using those percentages, extrapolate the number of players above those thresholds to the total number of players for other seasons."
   ]
  },
  {
   "cell_type": "code",
   "execution_count": 1,
   "metadata": {},
   "outputs": [],
   "source": [
    "# # When running on Binder: Uncomment and execute this cell to install packages required\n",
    "# import sys\n",
    "# !conda install --yes --prefix {sys.prefix} seaborn\n",
    "# !conda install --yes --prefix {sys.prefix} nb_black"
   ]
  },
  {
   "cell_type": "code",
   "execution_count": 2,
   "metadata": {},
   "outputs": [
    {
     "data": {
      "application/javascript": [
       "\n",
       "            setTimeout(function() {\n",
       "                var nbb_cell_id = 2;\n",
       "                var nbb_unformatted_code = \"%load_ext nb_black\\n\\nimport pandas as pd\\nimport numpy as np\\nimport seaborn as sns\\nimport matplotlib.pyplot as plt\";\n",
       "                var nbb_formatted_code = \"%load_ext nb_black\\n\\nimport pandas as pd\\nimport numpy as np\\nimport seaborn as sns\\nimport matplotlib.pyplot as plt\";\n",
       "                var nbb_cells = Jupyter.notebook.get_cells();\n",
       "                for (var i = 0; i < nbb_cells.length; ++i) {\n",
       "                    if (nbb_cells[i].input_prompt_number == nbb_cell_id) {\n",
       "                        if (nbb_cells[i].get_text() == nbb_unformatted_code) {\n",
       "                             nbb_cells[i].set_text(nbb_formatted_code);\n",
       "                        }\n",
       "                        break;\n",
       "                    }\n",
       "                }\n",
       "            }, 500);\n",
       "            "
      ],
      "text/plain": [
       "<IPython.core.display.Javascript object>"
      ]
     },
     "metadata": {},
     "output_type": "display_data"
    }
   ],
   "source": [
    "%load_ext nb_black\n",
    "\n",
    "import pandas as pd\n",
    "import numpy as np\n",
    "import seaborn as sns\n",
    "import matplotlib.pyplot as plt"
   ]
  },
  {
   "cell_type": "code",
   "execution_count": 3,
   "metadata": {},
   "outputs": [
    {
     "data": {
      "text/html": [
       "<div>\n",
       "<style scoped>\n",
       "    .dataframe tbody tr th:only-of-type {\n",
       "        vertical-align: middle;\n",
       "    }\n",
       "\n",
       "    .dataframe tbody tr th {\n",
       "        vertical-align: top;\n",
       "    }\n",
       "\n",
       "    .dataframe thead th {\n",
       "        text-align: right;\n",
       "    }\n",
       "</style>\n",
       "<table border=\"1\" class=\"dataframe\">\n",
       "  <thead>\n",
       "    <tr style=\"text-align: right;\">\n",
       "      <th></th>\n",
       "      <th>season</th>\n",
       "      <th>min_mmr</th>\n",
       "      <th>max_mmr</th>\n",
       "      <th>num_matches</th>\n",
       "    </tr>\n",
       "  </thead>\n",
       "  <tbody>\n",
       "    <tr>\n",
       "      <th>0</th>\n",
       "      <td>M2_01 Wolf 2020</td>\n",
       "      <td>2407</td>\n",
       "      <td>10484</td>\n",
       "      <td>699496</td>\n",
       "    </tr>\n",
       "    <tr>\n",
       "      <th>1</th>\n",
       "      <td>M2_02 Love 2020</td>\n",
       "      <td>7776</td>\n",
       "      <td>10537</td>\n",
       "      <td>769358</td>\n",
       "    </tr>\n",
       "    <tr>\n",
       "      <th>2</th>\n",
       "      <td>M2_03 Bear 2020</td>\n",
       "      <td>9427</td>\n",
       "      <td>10669</td>\n",
       "      <td>862678</td>\n",
       "    </tr>\n",
       "    <tr>\n",
       "      <th>3</th>\n",
       "      <td>M2_04 Elf 2020</td>\n",
       "      <td>9666</td>\n",
       "      <td>10751</td>\n",
       "      <td>1004830</td>\n",
       "    </tr>\n",
       "    <tr>\n",
       "      <th>4</th>\n",
       "      <td>M2_05 Viper 2020</td>\n",
       "      <td>9635</td>\n",
       "      <td>10622</td>\n",
       "      <td>859640</td>\n",
       "    </tr>\n",
       "    <tr>\n",
       "      <th>5</th>\n",
       "      <td>M2_06 Magic 2020</td>\n",
       "      <td>9624</td>\n",
       "      <td>10597</td>\n",
       "      <td>793401</td>\n",
       "    </tr>\n",
       "    <tr>\n",
       "      <th>6</th>\n",
       "      <td>M2_07 Griffin 2020</td>\n",
       "      <td>9698</td>\n",
       "      <td>10667</td>\n",
       "      <td>996742</td>\n",
       "    </tr>\n",
       "    <tr>\n",
       "      <th>7</th>\n",
       "      <td>M2_08 Draconid 2020</td>\n",
       "      <td>9666</td>\n",
       "      <td>10546</td>\n",
       "      <td>838212</td>\n",
       "    </tr>\n",
       "    <tr>\n",
       "      <th>8</th>\n",
       "      <td>M2_09 Dryad 2020</td>\n",
       "      <td>9678</td>\n",
       "      <td>10725</td>\n",
       "      <td>855528</td>\n",
       "    </tr>\n",
       "  </tbody>\n",
       "</table>\n",
       "</div>"
      ],
      "text/plain": [
       "                season  min_mmr  max_mmr  num_matches\n",
       "0      M2_01 Wolf 2020     2407    10484       699496\n",
       "1      M2_02 Love 2020     7776    10537       769358\n",
       "2      M2_03 Bear 2020     9427    10669       862678\n",
       "3       M2_04 Elf 2020     9666    10751      1004830\n",
       "4     M2_05 Viper 2020     9635    10622       859640\n",
       "5     M2_06 Magic 2020     9624    10597       793401\n",
       "6   M2_07 Griffin 2020     9698    10667       996742\n",
       "7  M2_08 Draconid 2020     9666    10546       838212\n",
       "8     M2_09 Dryad 2020     9678    10725       855528"
      ]
     },
     "execution_count": 3,
     "metadata": {},
     "output_type": "execute_result"
    },
    {
     "data": {
      "application/javascript": [
       "\n",
       "            setTimeout(function() {\n",
       "                var nbb_cell_id = 3;\n",
       "                var nbb_unformatted_code = \"df = pd.read_excel(\\\"./output/player_stats.xlsx\\\").drop(columns=[\\\"Unnamed: 0\\\"])\\nseasons_df = (\\n    df.groupby([\\\"season\\\"])\\n    .agg(\\n        min_mmr=pd.NamedAgg(\\\"mmr\\\", \\\"min\\\"),\\n        max_mmr=pd.NamedAgg(\\\"mmr\\\", \\\"max\\\"),\\n        num_matches=pd.NamedAgg(\\\"matches\\\", \\\"sum\\\"),\\n    )\\n    .reset_index()\\n)\\n\\nseasons_df\";\n",
       "                var nbb_formatted_code = \"df = pd.read_excel(\\\"./output/player_stats.xlsx\\\").drop(columns=[\\\"Unnamed: 0\\\"])\\nseasons_df = (\\n    df.groupby([\\\"season\\\"])\\n    .agg(\\n        min_mmr=pd.NamedAgg(\\\"mmr\\\", \\\"min\\\"),\\n        max_mmr=pd.NamedAgg(\\\"mmr\\\", \\\"max\\\"),\\n        num_matches=pd.NamedAgg(\\\"matches\\\", \\\"sum\\\"),\\n    )\\n    .reset_index()\\n)\\n\\nseasons_df\";\n",
       "                var nbb_cells = Jupyter.notebook.get_cells();\n",
       "                for (var i = 0; i < nbb_cells.length; ++i) {\n",
       "                    if (nbb_cells[i].input_prompt_number == nbb_cell_id) {\n",
       "                        if (nbb_cells[i].get_text() == nbb_unformatted_code) {\n",
       "                             nbb_cells[i].set_text(nbb_formatted_code);\n",
       "                        }\n",
       "                        break;\n",
       "                    }\n",
       "                }\n",
       "            }, 500);\n",
       "            "
      ],
      "text/plain": [
       "<IPython.core.display.Javascript object>"
      ]
     },
     "metadata": {},
     "output_type": "display_data"
    }
   ],
   "source": [
    "df = pd.read_excel(\"./output/player_stats.xlsx\").drop(columns=[\"Unnamed: 0\"])\n",
    "seasons_df = (\n",
    "    df.groupby([\"season\"])\n",
    "    .agg(\n",
    "        min_mmr=pd.NamedAgg(\"mmr\", \"min\"),\n",
    "        max_mmr=pd.NamedAgg(\"mmr\", \"max\"),\n",
    "        num_matches=pd.NamedAgg(\"matches\", \"sum\"),\n",
    "    )\n",
    "    .reset_index()\n",
    ")\n",
    "\n",
    "seasons_df"
   ]
  },
  {
   "cell_type": "code",
   "execution_count": 4,
   "metadata": {},
   "outputs": [
    {
     "data": {
      "image/png": "[encoded data removed]",
      "text/plain": [
       "<Figure size 432x288 with 1 Axes>"
      ]
     },
     "metadata": {
      "needs_background": "light"
     },
     "output_type": "display_data"
    },
    {
     "data": {
      "application/javascript": [
       "\n",
       "            setTimeout(function() {\n",
       "                var nbb_cell_id = 4;\n",
       "                var nbb_unformatted_code = \"sns.distplot(df[df[\\\"season\\\"] == \\\"M2_01 Wolf 2020\\\"][\\\"mmr\\\"], bins=50)\\nplt.show()\";\n",
       "                var nbb_formatted_code = \"sns.distplot(df[df[\\\"season\\\"] == \\\"M2_01 Wolf 2020\\\"][\\\"mmr\\\"], bins=50)\\nplt.show()\";\n",
       "                var nbb_cells = Jupyter.notebook.get_cells();\n",
       "                for (var i = 0; i < nbb_cells.length; ++i) {\n",
       "                    if (nbb_cells[i].input_prompt_number == nbb_cell_id) {\n",
       "                        if (nbb_cells[i].get_text() == nbb_unformatted_code) {\n",
       "                             nbb_cells[i].set_text(nbb_formatted_code);\n",
       "                        }\n",
       "                        break;\n",
       "                    }\n",
       "                }\n",
       "            }, 500);\n",
       "            "
      ],
      "text/plain": [
       "<IPython.core.display.Javascript object>"
      ]
     },
     "metadata": {},
     "output_type": "display_data"
    }
   ],
   "source": [
    "sns.distplot(df[df[\"season\"] == \"M2_01 Wolf 2020\"][\"mmr\"], bins=50)\n",
    "plt.show()"
   ]
  },
  {
   "cell_type": "code",
   "execution_count": 5,
   "metadata": {},
   "outputs": [
    {
     "data": {
      "text/html": [
       "<div>\n",
       "<style scoped>\n",
       "    .dataframe tbody tr th:only-of-type {\n",
       "        vertical-align: middle;\n",
       "    }\n",
       "\n",
       "    .dataframe tbody tr th {\n",
       "        vertical-align: top;\n",
       "    }\n",
       "\n",
       "    .dataframe thead th {\n",
       "        text-align: right;\n",
       "    }\n",
       "</style>\n",
       "<table border=\"1\" class=\"dataframe\">\n",
       "  <thead>\n",
       "    <tr style=\"text-align: right;\">\n",
       "      <th></th>\n",
       "      <th>percentile</th>\n",
       "      <th>mmr</th>\n",
       "    </tr>\n",
       "  </thead>\n",
       "  <tbody>\n",
       "    <tr>\n",
       "      <th>0</th>\n",
       "      <td>0.0</td>\n",
       "      <td>2407.000</td>\n",
       "    </tr>\n",
       "    <tr>\n",
       "      <th>1</th>\n",
       "      <td>0.5</td>\n",
       "      <td>2413.285</td>\n",
       "    </tr>\n",
       "    <tr>\n",
       "      <th>2</th>\n",
       "      <td>1.0</td>\n",
       "      <td>2426.000</td>\n",
       "    </tr>\n",
       "    <tr>\n",
       "      <th>3</th>\n",
       "      <td>1.5</td>\n",
       "      <td>2447.855</td>\n",
       "    </tr>\n",
       "    <tr>\n",
       "      <th>4</th>\n",
       "      <td>2.0</td>\n",
       "      <td>2477.420</td>\n",
       "    </tr>\n",
       "    <tr>\n",
       "      <th>...</th>\n",
       "      <td>...</td>\n",
       "      <td>...</td>\n",
       "    </tr>\n",
       "    <tr>\n",
       "      <th>195</th>\n",
       "      <td>97.5</td>\n",
       "      <td>10037.575</td>\n",
       "    </tr>\n",
       "    <tr>\n",
       "      <th>196</th>\n",
       "      <td>98.0</td>\n",
       "      <td>10064.000</td>\n",
       "    </tr>\n",
       "    <tr>\n",
       "      <th>197</th>\n",
       "      <td>98.5</td>\n",
       "      <td>10088.145</td>\n",
       "    </tr>\n",
       "    <tr>\n",
       "      <th>198</th>\n",
       "      <td>99.0</td>\n",
       "      <td>10135.170</td>\n",
       "    </tr>\n",
       "    <tr>\n",
       "      <th>199</th>\n",
       "      <td>99.5</td>\n",
       "      <td>10290.865</td>\n",
       "    </tr>\n",
       "  </tbody>\n",
       "</table>\n",
       "<p>200 rows × 2 columns</p>\n",
       "</div>"
      ],
      "text/plain": [
       "     percentile        mmr\n",
       "0           0.0   2407.000\n",
       "1           0.5   2413.285\n",
       "2           1.0   2426.000\n",
       "3           1.5   2447.855\n",
       "4           2.0   2477.420\n",
       "..          ...        ...\n",
       "195        97.5  10037.575\n",
       "196        98.0  10064.000\n",
       "197        98.5  10088.145\n",
       "198        99.0  10135.170\n",
       "199        99.5  10290.865\n",
       "\n",
       "[200 rows x 2 columns]"
      ]
     },
     "execution_count": 5,
     "metadata": {},
     "output_type": "execute_result"
    },
    {
     "data": {
      "application/javascript": [
       "\n",
       "            setTimeout(function() {\n",
       "                var nbb_cell_id = 5;\n",
       "                var nbb_unformatted_code = \"percentiles = np.percentile(\\n    df[df[\\\"season\\\"] == \\\"M2_01 Wolf 2020\\\"][\\\"mmr\\\"], [x / 2 for x in range(0, 200, 1)]\\n)\\npercentiles_df = pd.DataFrame(\\n    {\\\"percentile\\\": [x / 2 for x in range(0, 200, 1)], \\\"mmr\\\": percentiles}\\n)\\npercentiles_df\";\n",
       "                var nbb_formatted_code = \"percentiles = np.percentile(\\n    df[df[\\\"season\\\"] == \\\"M2_01 Wolf 2020\\\"][\\\"mmr\\\"], [x / 2 for x in range(0, 200, 1)]\\n)\\npercentiles_df = pd.DataFrame(\\n    {\\\"percentile\\\": [x / 2 for x in range(0, 200, 1)], \\\"mmr\\\": percentiles}\\n)\\npercentiles_df\";\n",
       "                var nbb_cells = Jupyter.notebook.get_cells();\n",
       "                for (var i = 0; i < nbb_cells.length; ++i) {\n",
       "                    if (nbb_cells[i].input_prompt_number == nbb_cell_id) {\n",
       "                        if (nbb_cells[i].get_text() == nbb_unformatted_code) {\n",
       "                             nbb_cells[i].set_text(nbb_formatted_code);\n",
       "                        }\n",
       "                        break;\n",
       "                    }\n",
       "                }\n",
       "            }, 500);\n",
       "            "
      ],
      "text/plain": [
       "<IPython.core.display.Javascript object>"
      ]
     },
     "metadata": {},
     "output_type": "display_data"
    }
   ],
   "source": [
    "percentiles = np.percentile(\n",
    "    df[df[\"season\"] == \"M2_01 Wolf 2020\"][\"mmr\"], [x / 2 for x in range(0, 200, 1)]\n",
    ")\n",
    "percentiles_df = pd.DataFrame(\n",
    "    {\"percentile\": [x / 2 for x in range(0, 200, 1)], \"mmr\": percentiles}\n",
    ")\n",
    "percentiles_df"
   ]
  },
  {
   "cell_type": "markdown",
   "metadata": {},
   "source": [
    "## Test case\n",
    "\n",
    "To test if the method actually worked, I got into Pro Rank during the Season of the Dryad and stopped playing ranked (actually stopped playing that season entirely as I didn't have time to climb). The result was that I had an unimpressive MMR of 3360, good for rank of 12816. If our estimates work we should get a number that is in that order of magnitude. \n",
    "\n",
    "We'll check the percentage of players who are at MMR 9678 during the first season (74 percent is at or below this threshold, so 26 is above. So if the total number of players listed, 2 860 corresponds with 26 % of the total Pro players, we can quickly figure out the total number of player should be around 11 000. Still some ways off the total number I know by getting into Pro Rank and staying there. Actually, using the same trick we can use the MMR I got and the position to get an approximation of 13782 Pro Players with MMR 2400 or above that season. However, for now this is close enough."
   ]
  },
  {
   "cell_type": "code",
   "execution_count": 6,
   "metadata": {},
   "outputs": [
    {
     "data": {
      "text/html": [
       "<div>\n",
       "<style scoped>\n",
       "    .dataframe tbody tr th:only-of-type {\n",
       "        vertical-align: middle;\n",
       "    }\n",
       "\n",
       "    .dataframe tbody tr th {\n",
       "        vertical-align: top;\n",
       "    }\n",
       "\n",
       "    .dataframe thead th {\n",
       "        text-align: right;\n",
       "    }\n",
       "</style>\n",
       "<table border=\"1\" class=\"dataframe\">\n",
       "  <thead>\n",
       "    <tr style=\"text-align: right;\">\n",
       "      <th></th>\n",
       "      <th>percentile</th>\n",
       "      <th>mmr</th>\n",
       "    </tr>\n",
       "  </thead>\n",
       "  <tbody>\n",
       "    <tr>\n",
       "      <th>148</th>\n",
       "      <td>74.0</td>\n",
       "      <td>9678.0</td>\n",
       "    </tr>\n",
       "  </tbody>\n",
       "</table>\n",
       "</div>"
      ],
      "text/plain": [
       "     percentile     mmr\n",
       "148        74.0  9678.0"
      ]
     },
     "execution_count": 6,
     "metadata": {},
     "output_type": "execute_result"
    },
    {
     "data": {
      "application/javascript": [
       "\n",
       "            setTimeout(function() {\n",
       "                var nbb_cell_id = 6;\n",
       "                var nbb_unformatted_code = \"# MMR cutoff to appear on pro ladder during the Season of the Dryad = 9678\\npercentiles_df[percentiles_df.mmr >= 9678][:1]\";\n",
       "                var nbb_formatted_code = \"# MMR cutoff to appear on pro ladder during the Season of the Dryad = 9678\\npercentiles_df[percentiles_df.mmr >= 9678][:1]\";\n",
       "                var nbb_cells = Jupyter.notebook.get_cells();\n",
       "                for (var i = 0; i < nbb_cells.length; ++i) {\n",
       "                    if (nbb_cells[i].input_prompt_number == nbb_cell_id) {\n",
       "                        if (nbb_cells[i].get_text() == nbb_unformatted_code) {\n",
       "                             nbb_cells[i].set_text(nbb_formatted_code);\n",
       "                        }\n",
       "                        break;\n",
       "                    }\n",
       "                }\n",
       "            }, 500);\n",
       "            "
      ],
      "text/plain": [
       "<IPython.core.display.Javascript object>"
      ]
     },
     "metadata": {},
     "output_type": "display_data"
    }
   ],
   "source": [
    "# MMR cutoff to appear on pro ladder during the Season of the Dryad = 9678\n",
    "percentiles_df[percentiles_df.mmr >= 9678][:1]"
   ]
  },
  {
   "cell_type": "code",
   "execution_count": 7,
   "metadata": {},
   "outputs": [
    {
     "data": {
      "text/plain": [
       "11000.0"
      ]
     },
     "execution_count": 7,
     "metadata": {},
     "output_type": "execute_result"
    },
    {
     "data": {
      "application/javascript": [
       "\n",
       "            setTimeout(function() {\n",
       "                var nbb_cell_id = 7;\n",
       "                var nbb_unformatted_code = \"(2860 / 26) * 100\";\n",
       "                var nbb_formatted_code = \"(2860 / 26) * 100\";\n",
       "                var nbb_cells = Jupyter.notebook.get_cells();\n",
       "                for (var i = 0; i < nbb_cells.length; ++i) {\n",
       "                    if (nbb_cells[i].input_prompt_number == nbb_cell_id) {\n",
       "                        if (nbb_cells[i].get_text() == nbb_unformatted_code) {\n",
       "                             nbb_cells[i].set_text(nbb_formatted_code);\n",
       "                        }\n",
       "                        break;\n",
       "                    }\n",
       "                }\n",
       "            }, 500);\n",
       "            "
      ],
      "text/plain": [
       "<IPython.core.display.Javascript object>"
      ]
     },
     "metadata": {},
     "output_type": "display_data"
    }
   ],
   "source": [
    "(2860 / 26) * 100"
   ]
  },
  {
   "cell_type": "markdown",
   "metadata": {},
   "source": [
    "## Using multiple cutoffs\n",
    "\n",
    "As small changes in the number of players can cause a big shift, here we'll use multiple MMR cutoffs to make the estimations and do some statistics on them to see if we can get close to the total number of players we are aware off."
   ]
  },
  {
   "cell_type": "code",
   "execution_count": 8,
   "metadata": {},
   "outputs": [
    {
     "data": {
      "application/javascript": [
       "\n",
       "            setTimeout(function() {\n",
       "                var nbb_cell_id = 8;\n",
       "                var nbb_unformatted_code = \"seasons = list(set(df[\\\"season\\\"]))\\n\\noutput = []\\n\\nfor i in [9700, 9800, 9900, 10000, 10100]:\\n    for season in seasons:\\n        players_above_threshold = (\\n            df[(df.season == season) & (df.mmr >= i)]\\n            .groupby([\\\"season\\\"])\\n            .agg(num_players=pd.NamedAgg(\\\"mmr\\\", \\\"count\\\"))\\n            .reset_index()\\n        ).iloc[0][\\\"num_players\\\"]\\n        percentile = int(100 - percentiles_df[percentiles_df.mmr > i][:1][\\\"percentile\\\"])\\n\\n        output.append(\\n            {\\n                \\\"season\\\": season,\\n                \\\"mmr_cutoff\\\": i,\\n                \\\"num_players\\\": players_above_threshold,\\n                \\\"total_players_est\\\": players_above_threshold * 100 / percentile,\\n            }\\n        )\\n\\nestimates_df = pd.DataFrame(output).sort_values(\\\"season\\\")\";\n",
       "                var nbb_formatted_code = \"seasons = list(set(df[\\\"season\\\"]))\\n\\noutput = []\\n\\nfor i in [9700, 9800, 9900, 10000, 10100]:\\n    for season in seasons:\\n        players_above_threshold = (\\n            df[(df.season == season) & (df.mmr >= i)]\\n            .groupby([\\\"season\\\"])\\n            .agg(num_players=pd.NamedAgg(\\\"mmr\\\", \\\"count\\\"))\\n            .reset_index()\\n        ).iloc[0][\\\"num_players\\\"]\\n        percentile = int(100 - percentiles_df[percentiles_df.mmr > i][:1][\\\"percentile\\\"])\\n\\n        output.append(\\n            {\\n                \\\"season\\\": season,\\n                \\\"mmr_cutoff\\\": i,\\n                \\\"num_players\\\": players_above_threshold,\\n                \\\"total_players_est\\\": players_above_threshold * 100 / percentile,\\n            }\\n        )\\n\\nestimates_df = pd.DataFrame(output).sort_values(\\\"season\\\")\";\n",
       "                var nbb_cells = Jupyter.notebook.get_cells();\n",
       "                for (var i = 0; i < nbb_cells.length; ++i) {\n",
       "                    if (nbb_cells[i].input_prompt_number == nbb_cell_id) {\n",
       "                        if (nbb_cells[i].get_text() == nbb_unformatted_code) {\n",
       "                             nbb_cells[i].set_text(nbb_formatted_code);\n",
       "                        }\n",
       "                        break;\n",
       "                    }\n",
       "                }\n",
       "            }, 500);\n",
       "            "
      ],
      "text/plain": [
       "<IPython.core.display.Javascript object>"
      ]
     },
     "metadata": {},
     "output_type": "display_data"
    }
   ],
   "source": [
    "seasons = list(set(df[\"season\"]))\n",
    "\n",
    "output = []\n",
    "\n",
    "for i in [9700, 9800, 9900, 10000, 10100]:\n",
    "    for season in seasons:\n",
    "        players_above_threshold = (\n",
    "            df[(df.season == season) & (df.mmr >= i)]\n",
    "            .groupby([\"season\"])\n",
    "            .agg(num_players=pd.NamedAgg(\"mmr\", \"count\"))\n",
    "            .reset_index()\n",
    "        ).iloc[0][\"num_players\"]\n",
    "        percentile = int(100 - percentiles_df[percentiles_df.mmr > i][:1][\"percentile\"])\n",
    "\n",
    "        output.append(\n",
    "            {\n",
    "                \"season\": season,\n",
    "                \"mmr_cutoff\": i,\n",
    "                \"num_players\": players_above_threshold,\n",
    "                \"total_players_est\": players_above_threshold * 100 / percentile,\n",
    "            }\n",
    "        )\n",
    "\n",
    "estimates_df = pd.DataFrame(output).sort_values(\"season\")"
   ]
  },
  {
   "cell_type": "code",
   "execution_count": 9,
   "metadata": {},
   "outputs": [
    {
     "data": {
      "text/html": [
       "<div>\n",
       "<style scoped>\n",
       "    .dataframe tbody tr th:only-of-type {\n",
       "        vertical-align: middle;\n",
       "    }\n",
       "\n",
       "    .dataframe tbody tr th {\n",
       "        vertical-align: top;\n",
       "    }\n",
       "\n",
       "    .dataframe thead th {\n",
       "        text-align: right;\n",
       "    }\n",
       "</style>\n",
       "<table border=\"1\" class=\"dataframe\">\n",
       "  <thead>\n",
       "    <tr style=\"text-align: right;\">\n",
       "      <th></th>\n",
       "      <th>season</th>\n",
       "      <th>low_estimate</th>\n",
       "      <th>max_estimate</th>\n",
       "      <th>mean_estimate</th>\n",
       "      <th>std_err</th>\n",
       "    </tr>\n",
       "  </thead>\n",
       "  <tbody>\n",
       "    <tr>\n",
       "      <th>0</th>\n",
       "      <td>M2_01 Wolf 2020</td>\n",
       "      <td>2900.000000</td>\n",
       "      <td>3600.0</td>\n",
       "      <td>3117.636364</td>\n",
       "      <td>124.944153</td>\n",
       "    </tr>\n",
       "    <tr>\n",
       "      <th>1</th>\n",
       "      <td>M2_02 Love 2020</td>\n",
       "      <td>4566.666667</td>\n",
       "      <td>7100.0</td>\n",
       "      <td>5621.151515</td>\n",
       "      <td>440.999682</td>\n",
       "    </tr>\n",
       "    <tr>\n",
       "      <th>2</th>\n",
       "      <td>M2_03 Bear 2020</td>\n",
       "      <td>6040.909091</td>\n",
       "      <td>10300.0</td>\n",
       "      <td>7332.181818</td>\n",
       "      <td>759.622655</td>\n",
       "    </tr>\n",
       "    <tr>\n",
       "      <th>3</th>\n",
       "      <td>M2_04 Elf 2020</td>\n",
       "      <td>9931.818182</td>\n",
       "      <td>18000.0</td>\n",
       "      <td>12322.363636</td>\n",
       "      <td>1493.522421</td>\n",
       "    </tr>\n",
       "    <tr>\n",
       "      <th>4</th>\n",
       "      <td>M2_05 Viper 2020</td>\n",
       "      <td>7766.666667</td>\n",
       "      <td>11400.0</td>\n",
       "      <td>9372.060606</td>\n",
       "      <td>727.332197</td>\n",
       "    </tr>\n",
       "    <tr>\n",
       "      <th>5</th>\n",
       "      <td>M2_06 Magic 2020</td>\n",
       "      <td>6800.000000</td>\n",
       "      <td>9800.0</td>\n",
       "      <td>8320.181818</td>\n",
       "      <td>618.201230</td>\n",
       "    </tr>\n",
       "    <tr>\n",
       "      <th>6</th>\n",
       "      <td>M2_07 Griffin 2020</td>\n",
       "      <td>12840.909091</td>\n",
       "      <td>19900.0</td>\n",
       "      <td>14684.181818</td>\n",
       "      <td>1331.303270</td>\n",
       "    </tr>\n",
       "    <tr>\n",
       "      <th>7</th>\n",
       "      <td>M2_08 Draconid 2020</td>\n",
       "      <td>9566.666667</td>\n",
       "      <td>13300.0</td>\n",
       "      <td>11187.151515</td>\n",
       "      <td>696.451999</td>\n",
       "    </tr>\n",
       "    <tr>\n",
       "      <th>8</th>\n",
       "      <td>M2_09 Dryad 2020</td>\n",
       "      <td>9733.333333</td>\n",
       "      <td>12600.0</td>\n",
       "      <td>11231.393939</td>\n",
       "      <td>462.041718</td>\n",
       "    </tr>\n",
       "  </tbody>\n",
       "</table>\n",
       "</div>"
      ],
      "text/plain": [
       "                season  low_estimate  max_estimate  mean_estimate      std_err\n",
       "0      M2_01 Wolf 2020   2900.000000        3600.0    3117.636364   124.944153\n",
       "1      M2_02 Love 2020   4566.666667        7100.0    5621.151515   440.999682\n",
       "2      M2_03 Bear 2020   6040.909091       10300.0    7332.181818   759.622655\n",
       "3       M2_04 Elf 2020   9931.818182       18000.0   12322.363636  1493.522421\n",
       "4     M2_05 Viper 2020   7766.666667       11400.0    9372.060606   727.332197\n",
       "5     M2_06 Magic 2020   6800.000000        9800.0    8320.181818   618.201230\n",
       "6   M2_07 Griffin 2020  12840.909091       19900.0   14684.181818  1331.303270\n",
       "7  M2_08 Draconid 2020   9566.666667       13300.0   11187.151515   696.451999\n",
       "8     M2_09 Dryad 2020   9733.333333       12600.0   11231.393939   462.041718"
      ]
     },
     "execution_count": 9,
     "metadata": {},
     "output_type": "execute_result"
    },
    {
     "data": {
      "application/javascript": [
       "\n",
       "            setTimeout(function() {\n",
       "                var nbb_cell_id = 9;\n",
       "                var nbb_unformatted_code = \"estimate_summary = (\\n    estimates_df.groupby([\\\"season\\\"])\\n    .agg(\\n        low_estimate=pd.NamedAgg(\\\"total_players_est\\\", \\\"min\\\"),\\n        max_estimate=pd.NamedAgg(\\\"total_players_est\\\", \\\"max\\\"),\\n        mean_estimate=pd.NamedAgg(\\\"total_players_est\\\", \\\"mean\\\"),\\n        std_err=pd.NamedAgg(\\\"total_players_est\\\", \\\"sem\\\"),\\n    )\\n    .reset_index()\\n)\\nestimate_summary\";\n",
       "                var nbb_formatted_code = \"estimate_summary = (\\n    estimates_df.groupby([\\\"season\\\"])\\n    .agg(\\n        low_estimate=pd.NamedAgg(\\\"total_players_est\\\", \\\"min\\\"),\\n        max_estimate=pd.NamedAgg(\\\"total_players_est\\\", \\\"max\\\"),\\n        mean_estimate=pd.NamedAgg(\\\"total_players_est\\\", \\\"mean\\\"),\\n        std_err=pd.NamedAgg(\\\"total_players_est\\\", \\\"sem\\\"),\\n    )\\n    .reset_index()\\n)\\nestimate_summary\";\n",
       "                var nbb_cells = Jupyter.notebook.get_cells();\n",
       "                for (var i = 0; i < nbb_cells.length; ++i) {\n",
       "                    if (nbb_cells[i].input_prompt_number == nbb_cell_id) {\n",
       "                        if (nbb_cells[i].get_text() == nbb_unformatted_code) {\n",
       "                             nbb_cells[i].set_text(nbb_formatted_code);\n",
       "                        }\n",
       "                        break;\n",
       "                    }\n",
       "                }\n",
       "            }, 500);\n",
       "            "
      ],
      "text/plain": [
       "<IPython.core.display.Javascript object>"
      ]
     },
     "metadata": {},
     "output_type": "display_data"
    }
   ],
   "source": [
    "estimate_summary = (\n",
    "    estimates_df.groupby([\"season\"])\n",
    "    .agg(\n",
    "        low_estimate=pd.NamedAgg(\"total_players_est\", \"min\"),\n",
    "        max_estimate=pd.NamedAgg(\"total_players_est\", \"max\"),\n",
    "        mean_estimate=pd.NamedAgg(\"total_players_est\", \"mean\"),\n",
    "        std_err=pd.NamedAgg(\"total_players_est\", \"sem\"),\n",
    "    )\n",
    "    .reset_index()\n",
    ")\n",
    "estimate_summary"
   ]
  },
  {
   "cell_type": "markdown",
   "metadata": {},
   "source": [
    "## Results ... maybe ...\n",
    "\n",
    "So here we can see the minimum and maximum estimated numbers of Pro Players can differ a lot, and for the season of the Dryad even the max estimate is still at least 1000 players shy of the ground truth. Though, given the scarcity of data to work with and some of the assumptions we need to make (it is unlikely that the discribution remains exactly the same as buffs/nerfs to cards and new cards could affect how easy it is to reach a certain fMMR with specific factions) it is the best that can be done with the data at hand and it is probably close enough.\n",
    "\n",
    "One thing I wanted to check if if there is a correlation between the number of games played by the top 2860 players and the estimated total number of players. This can easily be done by mergin our estimations with the number of players in the season summaries and plotting them using a scatter plot (or regplot to have a regression line in the plot). We'll do this for the top 500 players seperately as well to see if the trend holds for that section of the players."
   ]
  },
  {
   "cell_type": "code",
   "execution_count": 10,
   "metadata": {},
   "outputs": [
    {
     "data": {
      "text/html": [
       "<div>\n",
       "<style scoped>\n",
       "    .dataframe tbody tr th:only-of-type {\n",
       "        vertical-align: middle;\n",
       "    }\n",
       "\n",
       "    .dataframe tbody tr th {\n",
       "        vertical-align: top;\n",
       "    }\n",
       "\n",
       "    .dataframe thead th {\n",
       "        text-align: right;\n",
       "    }\n",
       "</style>\n",
       "<table border=\"1\" class=\"dataframe\">\n",
       "  <thead>\n",
       "    <tr style=\"text-align: right;\">\n",
       "      <th></th>\n",
       "      <th>season</th>\n",
       "      <th>min_mmr</th>\n",
       "      <th>max_mmr</th>\n",
       "      <th>num_matches</th>\n",
       "      <th>num_matches_top500</th>\n",
       "      <th>low_estimate</th>\n",
       "      <th>max_estimate</th>\n",
       "      <th>mean_estimate</th>\n",
       "      <th>std_err</th>\n",
       "    </tr>\n",
       "  </thead>\n",
       "  <tbody>\n",
       "    <tr>\n",
       "      <th>0</th>\n",
       "      <td>M2_01 Wolf 2020</td>\n",
       "      <td>2407</td>\n",
       "      <td>10484</td>\n",
       "      <td>699496</td>\n",
       "      <td>178323</td>\n",
       "      <td>2900.000000</td>\n",
       "      <td>3600.0</td>\n",
       "      <td>3117.636364</td>\n",
       "      <td>124.944153</td>\n",
       "    </tr>\n",
       "    <tr>\n",
       "      <th>1</th>\n",
       "      <td>M2_02 Love 2020</td>\n",
       "      <td>7776</td>\n",
       "      <td>10537</td>\n",
       "      <td>769358</td>\n",
       "      <td>183972</td>\n",
       "      <td>4566.666667</td>\n",
       "      <td>7100.0</td>\n",
       "      <td>5621.151515</td>\n",
       "      <td>440.999682</td>\n",
       "    </tr>\n",
       "    <tr>\n",
       "      <th>2</th>\n",
       "      <td>M2_03 Bear 2020</td>\n",
       "      <td>9427</td>\n",
       "      <td>10669</td>\n",
       "      <td>862678</td>\n",
       "      <td>205834</td>\n",
       "      <td>6040.909091</td>\n",
       "      <td>10300.0</td>\n",
       "      <td>7332.181818</td>\n",
       "      <td>759.622655</td>\n",
       "    </tr>\n",
       "    <tr>\n",
       "      <th>3</th>\n",
       "      <td>M2_04 Elf 2020</td>\n",
       "      <td>9666</td>\n",
       "      <td>10751</td>\n",
       "      <td>1004830</td>\n",
       "      <td>251712</td>\n",
       "      <td>9931.818182</td>\n",
       "      <td>18000.0</td>\n",
       "      <td>12322.363636</td>\n",
       "      <td>1493.522421</td>\n",
       "    </tr>\n",
       "    <tr>\n",
       "      <th>4</th>\n",
       "      <td>M2_05 Viper 2020</td>\n",
       "      <td>9635</td>\n",
       "      <td>10622</td>\n",
       "      <td>859640</td>\n",
       "      <td>207622</td>\n",
       "      <td>7766.666667</td>\n",
       "      <td>11400.0</td>\n",
       "      <td>9372.060606</td>\n",
       "      <td>727.332197</td>\n",
       "    </tr>\n",
       "    <tr>\n",
       "      <th>5</th>\n",
       "      <td>M2_06 Magic 2020</td>\n",
       "      <td>9624</td>\n",
       "      <td>10597</td>\n",
       "      <td>793401</td>\n",
       "      <td>188536</td>\n",
       "      <td>6800.000000</td>\n",
       "      <td>9800.0</td>\n",
       "      <td>8320.181818</td>\n",
       "      <td>618.201230</td>\n",
       "    </tr>\n",
       "    <tr>\n",
       "      <th>6</th>\n",
       "      <td>M2_07 Griffin 2020</td>\n",
       "      <td>9698</td>\n",
       "      <td>10667</td>\n",
       "      <td>996742</td>\n",
       "      <td>259713</td>\n",
       "      <td>12840.909091</td>\n",
       "      <td>19900.0</td>\n",
       "      <td>14684.181818</td>\n",
       "      <td>1331.303270</td>\n",
       "    </tr>\n",
       "    <tr>\n",
       "      <th>7</th>\n",
       "      <td>M2_08 Draconid 2020</td>\n",
       "      <td>9666</td>\n",
       "      <td>10546</td>\n",
       "      <td>838212</td>\n",
       "      <td>210198</td>\n",
       "      <td>9566.666667</td>\n",
       "      <td>13300.0</td>\n",
       "      <td>11187.151515</td>\n",
       "      <td>696.451999</td>\n",
       "    </tr>\n",
       "    <tr>\n",
       "      <th>8</th>\n",
       "      <td>M2_09 Dryad 2020</td>\n",
       "      <td>9678</td>\n",
       "      <td>10725</td>\n",
       "      <td>855528</td>\n",
       "      <td>202433</td>\n",
       "      <td>9733.333333</td>\n",
       "      <td>12600.0</td>\n",
       "      <td>11231.393939</td>\n",
       "      <td>462.041718</td>\n",
       "    </tr>\n",
       "  </tbody>\n",
       "</table>\n",
       "</div>"
      ],
      "text/plain": [
       "                season  min_mmr  max_mmr  num_matches  num_matches_top500  \\\n",
       "0      M2_01 Wolf 2020     2407    10484       699496              178323   \n",
       "1      M2_02 Love 2020     7776    10537       769358              183972   \n",
       "2      M2_03 Bear 2020     9427    10669       862678              205834   \n",
       "3       M2_04 Elf 2020     9666    10751      1004830              251712   \n",
       "4     M2_05 Viper 2020     9635    10622       859640              207622   \n",
       "5     M2_06 Magic 2020     9624    10597       793401              188536   \n",
       "6   M2_07 Griffin 2020     9698    10667       996742              259713   \n",
       "7  M2_08 Draconid 2020     9666    10546       838212              210198   \n",
       "8     M2_09 Dryad 2020     9678    10725       855528              202433   \n",
       "\n",
       "   low_estimate  max_estimate  mean_estimate      std_err  \n",
       "0   2900.000000        3600.0    3117.636364   124.944153  \n",
       "1   4566.666667        7100.0    5621.151515   440.999682  \n",
       "2   6040.909091       10300.0    7332.181818   759.622655  \n",
       "3   9931.818182       18000.0   12322.363636  1493.522421  \n",
       "4   7766.666667       11400.0    9372.060606   727.332197  \n",
       "5   6800.000000        9800.0    8320.181818   618.201230  \n",
       "6  12840.909091       19900.0   14684.181818  1331.303270  \n",
       "7   9566.666667       13300.0   11187.151515   696.451999  \n",
       "8   9733.333333       12600.0   11231.393939   462.041718  "
      ]
     },
     "execution_count": 10,
     "metadata": {},
     "output_type": "execute_result"
    },
    {
     "data": {
      "application/javascript": [
       "\n",
       "            setTimeout(function() {\n",
       "                var nbb_cell_id = 10;\n",
       "                var nbb_unformatted_code = \"# same thing but only considering the top 500 players\\nseasons_top500only_df = (\\n    df[pd.to_numeric(df[\\\"rank\\\"]) <= 500]\\n    .groupby([\\\"season\\\"])\\n    .agg(\\n        min_mmr=pd.NamedAgg(\\\"mmr\\\", \\\"min\\\"),\\n        max_mmr=pd.NamedAgg(\\\"mmr\\\", \\\"max\\\"),\\n        num_matches=pd.NamedAgg(\\\"matches\\\", \\\"sum\\\"),\\n    )\\n    .reset_index()\\n)\\n\\nmerged_df = pd.merge(\\n    seasons_df,\\n    seasons_top500only_df,\\n    how=\\\"inner\\\",\\n    on=\\\"season\\\",\\n    suffixes=(\\\"\\\", \\\"_top500\\\"),\\n)\\nmerged_df = pd.merge(merged_df, estimate_summary, how=\\\"inner\\\", on=\\\"season\\\").drop(\\n    columns=[\\\"min_mmr_top500\\\", \\\"max_mmr_top500\\\"]\\n)\\n\\nmerged_df\";\n",
       "                var nbb_formatted_code = \"# same thing but only considering the top 500 players\\nseasons_top500only_df = (\\n    df[pd.to_numeric(df[\\\"rank\\\"]) <= 500]\\n    .groupby([\\\"season\\\"])\\n    .agg(\\n        min_mmr=pd.NamedAgg(\\\"mmr\\\", \\\"min\\\"),\\n        max_mmr=pd.NamedAgg(\\\"mmr\\\", \\\"max\\\"),\\n        num_matches=pd.NamedAgg(\\\"matches\\\", \\\"sum\\\"),\\n    )\\n    .reset_index()\\n)\\n\\nmerged_df = pd.merge(\\n    seasons_df,\\n    seasons_top500only_df,\\n    how=\\\"inner\\\",\\n    on=\\\"season\\\",\\n    suffixes=(\\\"\\\", \\\"_top500\\\"),\\n)\\nmerged_df = pd.merge(merged_df, estimate_summary, how=\\\"inner\\\", on=\\\"season\\\").drop(\\n    columns=[\\\"min_mmr_top500\\\", \\\"max_mmr_top500\\\"]\\n)\\n\\nmerged_df\";\n",
       "                var nbb_cells = Jupyter.notebook.get_cells();\n",
       "                for (var i = 0; i < nbb_cells.length; ++i) {\n",
       "                    if (nbb_cells[i].input_prompt_number == nbb_cell_id) {\n",
       "                        if (nbb_cells[i].get_text() == nbb_unformatted_code) {\n",
       "                             nbb_cells[i].set_text(nbb_formatted_code);\n",
       "                        }\n",
       "                        break;\n",
       "                    }\n",
       "                }\n",
       "            }, 500);\n",
       "            "
      ],
      "text/plain": [
       "<IPython.core.display.Javascript object>"
      ]
     },
     "metadata": {},
     "output_type": "display_data"
    }
   ],
   "source": [
    "# same thing but only considering the top 500 players\n",
    "seasons_top500only_df = (\n",
    "    df[pd.to_numeric(df[\"rank\"]) <= 500]\n",
    "    .groupby([\"season\"])\n",
    "    .agg(\n",
    "        min_mmr=pd.NamedAgg(\"mmr\", \"min\"),\n",
    "        max_mmr=pd.NamedAgg(\"mmr\", \"max\"),\n",
    "        num_matches=pd.NamedAgg(\"matches\", \"sum\"),\n",
    "    )\n",
    "    .reset_index()\n",
    ")\n",
    "\n",
    "merged_df = pd.merge(\n",
    "    seasons_df,\n",
    "    seasons_top500only_df,\n",
    "    how=\"inner\",\n",
    "    on=\"season\",\n",
    "    suffixes=(\"\", \"_top500\"),\n",
    ")\n",
    "merged_df = pd.merge(merged_df, estimate_summary, how=\"inner\", on=\"season\").drop(\n",
    "    columns=[\"min_mmr_top500\", \"max_mmr_top500\"]\n",
    ")\n",
    "\n",
    "merged_df"
   ]
  },
  {
   "cell_type": "code",
   "execution_count": 11,
   "metadata": {},
   "outputs": [
    {
     "data": {
      "image/png": "[encoded data removed]",
      "text/plain": [
       "<Figure size 432x288 with 1 Axes>"
      ]
     },
     "metadata": {
      "needs_background": "light"
     },
     "output_type": "display_data"
    },
    {
     "data": {
      "application/javascript": [
       "\n",
       "            setTimeout(function() {\n",
       "                var nbb_cell_id = 11;\n",
       "                var nbb_unformatted_code = \"sns.regplot(data=merged_df, x=\\\"num_matches\\\", y=\\\"max_estimate\\\")\\nplt.show()\";\n",
       "                var nbb_formatted_code = \"sns.regplot(data=merged_df, x=\\\"num_matches\\\", y=\\\"max_estimate\\\")\\nplt.show()\";\n",
       "                var nbb_cells = Jupyter.notebook.get_cells();\n",
       "                for (var i = 0; i < nbb_cells.length; ++i) {\n",
       "                    if (nbb_cells[i].input_prompt_number == nbb_cell_id) {\n",
       "                        if (nbb_cells[i].get_text() == nbb_unformatted_code) {\n",
       "                             nbb_cells[i].set_text(nbb_formatted_code);\n",
       "                        }\n",
       "                        break;\n",
       "                    }\n",
       "                }\n",
       "            }, 500);\n",
       "            "
      ],
      "text/plain": [
       "<IPython.core.display.Javascript object>"
      ]
     },
     "metadata": {},
     "output_type": "display_data"
    }
   ],
   "source": [
    "sns.regplot(data=merged_df, x=\"num_matches\", y=\"max_estimate\")\n",
    "plt.show()"
   ]
  },
  {
   "cell_type": "code",
   "execution_count": 12,
   "metadata": {
    "scrolled": true
   },
   "outputs": [
    {
     "data": {
      "image/png": "[encoded data removed]",
      "text/plain": [
       "<Figure size 432x288 with 1 Axes>"
      ]
     },
     "metadata": {
      "needs_background": "light"
     },
     "output_type": "display_data"
    },
    {
     "data": {
      "application/javascript": [
       "\n",
       "            setTimeout(function() {\n",
       "                var nbb_cell_id = 12;\n",
       "                var nbb_unformatted_code = \"sns.regplot(data=merged_df, x=\\\"num_matches_top500\\\", y=\\\"max_estimate\\\")\\nplt.show()\";\n",
       "                var nbb_formatted_code = \"sns.regplot(data=merged_df, x=\\\"num_matches_top500\\\", y=\\\"max_estimate\\\")\\nplt.show()\";\n",
       "                var nbb_cells = Jupyter.notebook.get_cells();\n",
       "                for (var i = 0; i < nbb_cells.length; ++i) {\n",
       "                    if (nbb_cells[i].input_prompt_number == nbb_cell_id) {\n",
       "                        if (nbb_cells[i].get_text() == nbb_unformatted_code) {\n",
       "                             nbb_cells[i].set_text(nbb_formatted_code);\n",
       "                        }\n",
       "                        break;\n",
       "                    }\n",
       "                }\n",
       "            }, 500);\n",
       "            "
      ],
      "text/plain": [
       "<IPython.core.display.Javascript object>"
      ]
     },
     "metadata": {},
     "output_type": "display_data"
    }
   ],
   "source": [
    "sns.regplot(data=merged_df, x=\"num_matches_top500\", y=\"max_estimate\")\n",
    "plt.show()"
   ]
  },
  {
   "cell_type": "markdown",
   "metadata": {},
   "source": [
    "There is a clear and mostly linear correlation between the number of Pro Ranked players and the number of games played by both the top 2860 and top 500 players. So the more players there are, the more matches someone has to play to get in the higher ranks. "
   ]
  },
  {
   "cell_type": "code",
   "execution_count": 77,
   "metadata": {},
   "outputs": [
    {
     "data": {
      "text/html": [
       "<div>\n",
       "<style scoped>\n",
       "    .dataframe tbody tr th:only-of-type {\n",
       "        vertical-align: middle;\n",
       "    }\n",
       "\n",
       "    .dataframe tbody tr th {\n",
       "        vertical-align: top;\n",
       "    }\n",
       "\n",
       "    .dataframe thead th {\n",
       "        text-align: right;\n",
       "    }\n",
       "</style>\n",
       "<table border=\"1\" class=\"dataframe\">\n",
       "  <thead>\n",
       "    <tr style=\"text-align: right;\">\n",
       "      <th></th>\n",
       "      <th>season</th>\n",
       "      <th>group</th>\n",
       "      <th>matches_total</th>\n",
       "      <th>matches</th>\n",
       "    </tr>\n",
       "  </thead>\n",
       "  <tbody>\n",
       "    <tr>\n",
       "      <th>0</th>\n",
       "      <td>M2_01 Wolf 2020</td>\n",
       "      <td>Position 0200 to 0000</td>\n",
       "      <td>88400</td>\n",
       "      <td>442.000</td>\n",
       "    </tr>\n",
       "    <tr>\n",
       "      <th>1</th>\n",
       "      <td>M2_02 Love 2020</td>\n",
       "      <td>Position 0200 to 0000</td>\n",
       "      <td>91993</td>\n",
       "      <td>459.965</td>\n",
       "    </tr>\n",
       "    <tr>\n",
       "      <th>2</th>\n",
       "      <td>M2_03 Bear 2020</td>\n",
       "      <td>Position 0200 to 0000</td>\n",
       "      <td>103503</td>\n",
       "      <td>517.515</td>\n",
       "    </tr>\n",
       "    <tr>\n",
       "      <th>3</th>\n",
       "      <td>M2_04 Elf 2020</td>\n",
       "      <td>Position 0200 to 0000</td>\n",
       "      <td>122769</td>\n",
       "      <td>613.845</td>\n",
       "    </tr>\n",
       "    <tr>\n",
       "      <th>4</th>\n",
       "      <td>M2_05 Viper 2020</td>\n",
       "      <td>Position 0200 to 0000</td>\n",
       "      <td>97914</td>\n",
       "      <td>489.570</td>\n",
       "    </tr>\n",
       "    <tr>\n",
       "      <th>...</th>\n",
       "      <td>...</td>\n",
       "      <td>...</td>\n",
       "      <td>...</td>\n",
       "      <td>...</td>\n",
       "    </tr>\n",
       "    <tr>\n",
       "      <th>121</th>\n",
       "      <td>M2_05 Viper 2020</td>\n",
       "      <td>Position 2800 to 2600</td>\n",
       "      <td>52653</td>\n",
       "      <td>263.265</td>\n",
       "    </tr>\n",
       "    <tr>\n",
       "      <th>122</th>\n",
       "      <td>M2_06 Magic 2020</td>\n",
       "      <td>Position 2800 to 2600</td>\n",
       "      <td>47687</td>\n",
       "      <td>238.435</td>\n",
       "    </tr>\n",
       "    <tr>\n",
       "      <th>123</th>\n",
       "      <td>M2_07 Griffin 2020</td>\n",
       "      <td>Position 2800 to 2600</td>\n",
       "      <td>55570</td>\n",
       "      <td>277.850</td>\n",
       "    </tr>\n",
       "    <tr>\n",
       "      <th>124</th>\n",
       "      <td>M2_08 Draconid 2020</td>\n",
       "      <td>Position 2800 to 2600</td>\n",
       "      <td>46536</td>\n",
       "      <td>232.680</td>\n",
       "    </tr>\n",
       "    <tr>\n",
       "      <th>125</th>\n",
       "      <td>M2_09 Dryad 2020</td>\n",
       "      <td>Position 2800 to 2600</td>\n",
       "      <td>49202</td>\n",
       "      <td>246.010</td>\n",
       "    </tr>\n",
       "  </tbody>\n",
       "</table>\n",
       "<p>126 rows × 4 columns</p>\n",
       "</div>"
      ],
      "text/plain": [
       "                  season                  group  matches_total  matches\n",
       "0        M2_01 Wolf 2020  Position 0200 to 0000          88400  442.000\n",
       "1        M2_02 Love 2020  Position 0200 to 0000          91993  459.965\n",
       "2        M2_03 Bear 2020  Position 0200 to 0000         103503  517.515\n",
       "3         M2_04 Elf 2020  Position 0200 to 0000         122769  613.845\n",
       "4       M2_05 Viper 2020  Position 0200 to 0000          97914  489.570\n",
       "..                   ...                    ...            ...      ...\n",
       "121     M2_05 Viper 2020  Position 2800 to 2600          52653  263.265\n",
       "122     M2_06 Magic 2020  Position 2800 to 2600          47687  238.435\n",
       "123   M2_07 Griffin 2020  Position 2800 to 2600          55570  277.850\n",
       "124  M2_08 Draconid 2020  Position 2800 to 2600          46536  232.680\n",
       "125     M2_09 Dryad 2020  Position 2800 to 2600          49202  246.010\n",
       "\n",
       "[126 rows x 4 columns]"
      ]
     },
     "execution_count": 77,
     "metadata": {},
     "output_type": "execute_result"
    },
    {
     "data": {
      "application/javascript": [
       "\n",
       "            setTimeout(function() {\n",
       "                var nbb_cell_id = 77;\n",
       "                var nbb_unformatted_code = \"from functools import reduce\\n\\nbin_size = 200\\nbins = []\\n\\nfor i in range(0, 2800, bin_size):\\n    bin_df = (\\n        df[\\n            (i < pd.to_numeric(df[\\\"rank\\\"]))\\n            & (pd.to_numeric(df[\\\"rank\\\"]) <= i + bin_size)\\n        ]\\n        .groupby([\\\"season\\\"])\\n        .agg(num_matches=pd.NamedAgg(\\\"matches\\\", \\\"sum\\\"),)\\n        .reset_index()\\n        .rename(columns={\\\"num_matches\\\": \\\"Position %04d to %04d\\\" % (i + bin_size, i)})\\n    )\\n    bins.append(bin_df)\\n\\nmerged_df = reduce(\\n    lambda left, right: pd.merge(left, right, on=\\\"season\\\", how=\\\"inner\\\"), bins\\n)\\n\\nmelted_df = merged_df.melt(\\n    id_vars=[\\\"season\\\"], var_name=\\\"group\\\", value_name=\\\"matches_total\\\"\\n)\\nmelted_df[\\\"matches\\\"] = melted_df[\\\"matches_total\\\"] / bin_size\\nmelted_df\";\n",
       "                var nbb_formatted_code = \"from functools import reduce\\n\\nbin_size = 200\\nbins = []\\n\\nfor i in range(0, 2800, bin_size):\\n    bin_df = (\\n        df[\\n            (i < pd.to_numeric(df[\\\"rank\\\"]))\\n            & (pd.to_numeric(df[\\\"rank\\\"]) <= i + bin_size)\\n        ]\\n        .groupby([\\\"season\\\"])\\n        .agg(num_matches=pd.NamedAgg(\\\"matches\\\", \\\"sum\\\"),)\\n        .reset_index()\\n        .rename(columns={\\\"num_matches\\\": \\\"Position %04d to %04d\\\" % (i + bin_size, i)})\\n    )\\n    bins.append(bin_df)\\n\\nmerged_df = reduce(\\n    lambda left, right: pd.merge(left, right, on=\\\"season\\\", how=\\\"inner\\\"), bins\\n)\\n\\nmelted_df = merged_df.melt(\\n    id_vars=[\\\"season\\\"], var_name=\\\"group\\\", value_name=\\\"matches_total\\\"\\n)\\nmelted_df[\\\"matches\\\"] = melted_df[\\\"matches_total\\\"] / bin_size\\nmelted_df\";\n",
       "                var nbb_cells = Jupyter.notebook.get_cells();\n",
       "                for (var i = 0; i < nbb_cells.length; ++i) {\n",
       "                    if (nbb_cells[i].input_prompt_number == nbb_cell_id) {\n",
       "                        if (nbb_cells[i].get_text() == nbb_unformatted_code) {\n",
       "                             nbb_cells[i].set_text(nbb_formatted_code);\n",
       "                        }\n",
       "                        break;\n",
       "                    }\n",
       "                }\n",
       "            }, 500);\n",
       "            "
      ],
      "text/plain": [
       "<IPython.core.display.Javascript object>"
      ]
     },
     "metadata": {},
     "output_type": "display_data"
    }
   ],
   "source": [
    "from functools import reduce\n",
    "\n",
    "bin_size = 200\n",
    "bins = []\n",
    "\n",
    "for i in range(0, 2800, bin_size):\n",
    "    bin_df = (\n",
    "        df[\n",
    "            (i < pd.to_numeric(df[\"rank\"]))\n",
    "            & (pd.to_numeric(df[\"rank\"]) <= i + bin_size)\n",
    "        ]\n",
    "        .groupby([\"season\"])\n",
    "        .agg(num_matches=pd.NamedAgg(\"matches\", \"sum\"),)\n",
    "        .reset_index()\n",
    "        .rename(columns={\"num_matches\": \"Position %04d to %04d\" % (i + bin_size, i)})\n",
    "    )\n",
    "    bins.append(bin_df)\n",
    "\n",
    "merged_df = reduce(\n",
    "    lambda left, right: pd.merge(left, right, on=\"season\", how=\"inner\"), bins\n",
    ")\n",
    "\n",
    "melted_df = merged_df.melt(\n",
    "    id_vars=[\"season\"], var_name=\"group\", value_name=\"matches_total\"\n",
    ")\n",
    "melted_df[\"matches\"] = melted_df[\"matches_total\"] / bin_size\n",
    "melted_df"
   ]
  },
  {
   "cell_type": "code",
   "execution_count": 78,
   "metadata": {},
   "outputs": [
    {
     "name": "stderr",
     "output_type": "stream",
     "text": [
      "C:\\ProgramData\\Anaconda3\\lib\\site-packages\\ipykernel_launcher.py:8: MatplotlibDeprecationWarning: Adding an axes using the same arguments as a previous axes currently reuses the earlier instance.  In a future version, a new instance will always be created and returned.  Meanwhile, this warning can be suppressed, and the future behavior ensured, by passing a unique label to each axes instance.\n",
      "  \n"
     ]
    },
    {
     "data": {
      "image/png": "[encoded data removed]",
      "text/plain": [
       "<Figure size 1080x720 with 1 Axes>"
      ]
     },
     "metadata": {
      "needs_background": "light"
     },
     "output_type": "display_data"
    },
    {
     "data": {
      "application/javascript": [
       "\n",
       "            setTimeout(function() {\n",
       "                var nbb_cell_id = 78;\n",
       "                var nbb_unformatted_code = \"from matplotlib.ticker import MultipleLocator\\n\\nml = MultipleLocator(20)\\n\\nplt.rcParams[\\\"figure.figsize\\\"] = [15, 10]\\nsns.lineplot(data=melted_df, x=\\\"group\\\", y=\\\"matches\\\", hue=\\\"season\\\").invert_xaxis()\\nplt.xticks(rotation=90)\\nplt.axes().yaxis.set_minor_locator(ml)\\nplt.grid(linestyle=\\\"dashed\\\", alpha=0.5, which=\\\"both\\\")\\nplt.tight_layout()\\nplt.show()\";\n",
       "                var nbb_formatted_code = \"from matplotlib.ticker import MultipleLocator\\n\\nml = MultipleLocator(20)\\n\\nplt.rcParams[\\\"figure.figsize\\\"] = [15, 10]\\nsns.lineplot(data=melted_df, x=\\\"group\\\", y=\\\"matches\\\", hue=\\\"season\\\").invert_xaxis()\\nplt.xticks(rotation=90)\\nplt.axes().yaxis.set_minor_locator(ml)\\nplt.grid(linestyle=\\\"dashed\\\", alpha=0.5, which=\\\"both\\\")\\nplt.tight_layout()\\nplt.show()\";\n",
       "                var nbb_cells = Jupyter.notebook.get_cells();\n",
       "                for (var i = 0; i < nbb_cells.length; ++i) {\n",
       "                    if (nbb_cells[i].input_prompt_number == nbb_cell_id) {\n",
       "                        if (nbb_cells[i].get_text() == nbb_unformatted_code) {\n",
       "                             nbb_cells[i].set_text(nbb_formatted_code);\n",
       "                        }\n",
       "                        break;\n",
       "                    }\n",
       "                }\n",
       "            }, 500);\n",
       "            "
      ],
      "text/plain": [
       "<IPython.core.display.Javascript object>"
      ]
     },
     "metadata": {},
     "output_type": "display_data"
    }
   ],
   "source": [
    "from matplotlib.ticker import MultipleLocator\n",
    "\n",
    "ml = MultipleLocator(20)\n",
    "\n",
    "plt.rcParams[\"figure.figsize\"] = [15, 10]\n",
    "sns.lineplot(data=melted_df, x=\"group\", y=\"matches\", hue=\"season\").invert_xaxis()\n",
    "plt.xticks(rotation=90)\n",
    "plt.axes().yaxis.set_minor_locator(ml)\n",
    "plt.grid(linestyle=\"dashed\", alpha=0.5, which=\"both\")\n",
    "plt.tight_layout()\n",
    "plt.show()"
   ]
  },
  {
   "attachments": {},
   "cell_type": "markdown",
   "metadata": {},
   "source": [
    "So clearly to get in the higher ranks you have to play more games. This echoes something I've heard multiple Pro Players say in their streams; that the current ladder system rewards the quantity over efficiency. For individual players it also gives an impression how efficient they were climbing compared to others around them, and if they would theoretically be able to climb further given time to play more games.\n",
    "\n",
    "I've reached Pro Rank each season since the season of the Viper though during the season of the Viper and Dryad I didn't get enough games in to reach a position on the leader boards. So let's have a look at my personal stats !\n",
    "\n",
    "  * Season of Magic: Position 1138 after 254 matches\n",
    "  * Season of the Griffin: Position 1167 after 260 matches\n",
    "  * Season of the Draconid: Position 1255 after 214 matches\n",
    "\n",
    "So during the Season of Magic I landed smack on the line indicating that was probably as good as it would get that season. Though during the season of the Griffin the number of games I played was a hundered games below the average number of games played by others reaching a similar position on the ladder. Similarly, during the Season of the Draconid with 214 matches played, to get into the 1400 - 1200 bin this is about 50 games played less than others in the same bin. "
   ]
  }
 ],
 "metadata": {
  "kernelspec": {
   "display_name": "Python 3",
   "language": "python",
   "name": "python3"
  },
  "language_info": {
   "codemirror_mode": {
    "name": "ipython",
    "version": 3
   },
   "file_extension": ".py",
   "mimetype": "text/x-python",
   "name": "python",
   "nbconvert_exporter": "python",
   "pygments_lexer": "ipython3",
   "version": "3.7.6"
  }
 },
 "nbformat": 4,
 "nbformat_minor": 4
}
